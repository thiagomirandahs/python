{
  "nbformat": 4,
  "nbformat_minor": 0,
  "metadata": {
    "colab": {
      "provenance": [],
      "authorship_tag": "ABX9TyMM2ZK2OaPBPjEYClNYDu1r",
      "include_colab_link": true
    },
    "kernelspec": {
      "name": "python3",
      "display_name": "Python 3"
    },
    "language_info": {
      "name": "python"
    }
  },
  "cells": [
    {
      "cell_type": "markdown",
      "metadata": {
        "id": "view-in-github",
        "colab_type": "text"
      },
      "source": [
        "<a href=\"https://colab.research.google.com/github/thiagomirandahs/python/blob/main/AT1.ipynb\" target=\"_parent\"><img src=\"https://colab.research.google.com/assets/colab-badge.svg\" alt=\"Open In Colab\"/></a>"
      ]
    },
    {
      "cell_type": "code",
      "execution_count": 8,
      "metadata": {
        "colab": {
          "base_uri": "https://localhost:8080/"
        },
        "id": "QnsSYYS0sq-N",
        "outputId": "065904b8-cf73-45ec-efb3-6fe92bf084a1"
      },
      "outputs": [
        {
          "output_type": "stream",
          "name": "stdout",
          "text": [
            "Olá ETE CÍCERO DIAS\n"
          ]
        }
      ],
      "source": [
        "# mostrar na tela\n",
        "print('Olá ETE CÍCERO DIAS')"
      ]
    },
    {
      "cell_type": "code",
      "source": [
        "#mostra um numero na tela\n",
        "a = int(input('Digite um Numero: '))\n",
        "print(f'O numero informado foi: {a}')"
      ],
      "metadata": {
        "colab": {
          "base_uri": "https://localhost:8080/"
        },
        "id": "I9w93I-Es7iX",
        "outputId": "bda3337d-daa6-4e41-a89e-9b085c9aeecf"
      },
      "execution_count": 9,
      "outputs": [
        {
          "output_type": "stream",
          "name": "stdout",
          "text": [
            "Digite um Numero: 20\n",
            "O numero informado foi: 20\n"
          ]
        }
      ]
    },
    {
      "cell_type": "code",
      "source": [
        "#faz a soma de 2 numeros\n",
        "a = int(input('Digite o primeiro numero: '))\n",
        "b = int(input('Digite o segundo numero: '))\n",
        "print(a+b)"
      ],
      "metadata": {
        "colab": {
          "base_uri": "https://localhost:8080/"
        },
        "id": "6FIfYL9Pt1Wy",
        "outputId": "7c4029ef-5f25-451e-88cb-c0f6b84ff647"
      },
      "execution_count": 10,
      "outputs": [
        {
          "output_type": "stream",
          "name": "stdout",
          "text": [
            "Digite o primeiro numero: 10\n",
            "Digite o segundo numero: 20\n",
            "30\n"
          ]
        }
      ]
    },
    {
      "cell_type": "code",
      "source": [
        "#da a media\n",
        "nota1 = int(input(\"Digite primeira nota: \"))\n",
        "nota2 = int(input(\"Digite segunda nota: \"))\n",
        "nota3 = int(input(\"Digite terceira nota: \"))\n",
        "nota4 = int(input(\"Digite quarta nota: \"))\n",
        "resultado = (nota1 + nota2 + nota3 + nota4) / 4\n",
        "print(resultado)\n"
      ],
      "metadata": {
        "colab": {
          "base_uri": "https://localhost:8080/"
        },
        "id": "3ePjktoaua1y",
        "outputId": "6ae815f3-ed54-49b0-e5e7-d2b916d49b36"
      },
      "execution_count": 15,
      "outputs": [
        {
          "output_type": "stream",
          "name": "stdout",
          "text": [
            "Digite primeira nota: 4\n",
            "Digite segunda nota: 5\n",
            "Digite terceira nota: 8\n",
            "Digite quarta nota: 7\n",
            "6.0\n"
          ]
        }
      ]
    },
    {
      "cell_type": "code",
      "source": [
        "#converter metros em centimetros\n",
        "metros = float(input('Digite a medida em metros'))\n",
        "centimetros = metros * 100\n",
        "print(f'A converção de {metros} para centimetros é : {centimetros}')"
      ],
      "metadata": {
        "colab": {
          "base_uri": "https://localhost:8080/"
        },
        "id": "4B2dfzWSwERK",
        "outputId": "2c8d3923-c826-45ec-a18c-661f219dcbbd"
      },
      "execution_count": 17,
      "outputs": [
        {
          "output_type": "stream",
          "name": "stdout",
          "text": [
            "Digite a medida em metros10\n",
            "A converção de 10.0 para centimetros é : 1000.0\n"
          ]
        }
      ]
    },
    {
      "cell_type": "code",
      "source": [
        "#calculo de area de um circulo\n",
        "raio = float(input(\"Digite o Raio: \"))\n",
        "area = 3.14 * raio**2\n",
        "print(f'A area do quadrado é {area}')\n"
      ],
      "metadata": {
        "colab": {
          "base_uri": "https://localhost:8080/"
        },
        "id": "mAMRPP5kw6bN",
        "outputId": "a343efdf-8103-462a-b539-6c3042539bea"
      },
      "execution_count": 21,
      "outputs": [
        {
          "output_type": "stream",
          "name": "stdout",
          "text": [
            "Digite o Raio: 2\n",
            "A area do quadrado é 12.56\n"
          ]
        }
      ]
    },
    {
      "cell_type": "code",
      "source": [
        "# calculo de area de um quadrado\n",
        "base = int(input(\"Digite o primeiro numero: \"))\n",
        "altura = int(input(\"Digite o primeiro numero: \"))\n",
        "area = (base * altura)\n",
        "dobro_da_area = area *2\n",
        "print(f'A area é {area} m²')\n",
        "print(f'o dobro da area é {dobro_da_area} m²')"
      ],
      "metadata": {
        "colab": {
          "base_uri": "https://localhost:8080/"
        },
        "id": "qEOUCqlFyeHZ",
        "outputId": "808d2631-4995-4c20-c08b-52e134be7299"
      },
      "execution_count": 24,
      "outputs": [
        {
          "output_type": "stream",
          "name": "stdout",
          "text": [
            "Digite o primeiro numero: 40\n",
            "Digite o primeiro numero: 50\n",
            "A area é 2000 m²\n",
            "o dobro da area é 4000 m²\n"
          ]
        }
      ]
    },
    {
      "cell_type": "code",
      "source": [
        "#calculo de salario\n",
        "\n",
        "valor_por_hora = float(input(\"Quanto você recebe por hora : \"))\n",
        "horas_trabalhadas = float(input(\"Quantas horas voce trabalhou :  \"))\n",
        "dias_trabalhados = float(input(\"Quantos dias você trabalhou  : \"))\n",
        "salario = (valor_por_hora * horas_trabalhadas * dias_trabalhados)\n",
        "print(f'Seu salário é {salario}')"
      ],
      "metadata": {
        "colab": {
          "base_uri": "https://localhost:8080/"
        },
        "id": "ryFC3w0tzVa1",
        "outputId": "e866f5c1-3294-4172-e580-0b93c8280634"
      },
      "execution_count": 32,
      "outputs": [
        {
          "output_type": "stream",
          "name": "stdout",
          "text": [
            "Quanto você recebe por hora : 10\n",
            "Quantas horas voce trabalhou :  9\n",
            "Quantos dias você trabalhou  : 30\n",
            "Seu salário é 2700.0\n"
          ]
        }
      ]
    },
    {
      "cell_type": "code",
      "source": [
        "#mostrar se é negativo ou positivo\n",
        "numero = float(input('Digite um numero'))\n",
        "if numero > 0:\n",
        "    print('O número é positivo')\n",
        "else:\n",
        "    print('O Número é negativo')"
      ],
      "metadata": {
        "colab": {
          "base_uri": "https://localhost:8080/"
        },
        "id": "Lnp76rSe1IBG",
        "outputId": "10cc08ac-e332-493d-f984-a6f9e344f35f"
      },
      "execution_count": 35,
      "outputs": [
        {
          "output_type": "stream",
          "name": "stdout",
          "text": [
            "Digite um numero2\n",
            "O número é positivo\n"
          ]
        }
      ]
    },
    {
      "cell_type": "code",
      "source": [
        "#descobrindo genero\n",
        "genero = input(\"digite 'f' para Feminino ou 'm' para Masculino\")\n",
        "if genero == 'f':\n",
        "  print('Sexo Feminino')\n",
        "elif genero == 'm':\n",
        "  print('Sexo Masculino')\n",
        "else:\n",
        "  print('Sexo Invalido')\n"
      ],
      "metadata": {
        "colab": {
          "base_uri": "https://localhost:8080/"
        },
        "id": "uiUKYFYd2dV3",
        "outputId": "a1a4d3d3-144b-4db1-c401-256570b16fe8"
      },
      "execution_count": 39,
      "outputs": [
        {
          "output_type": "stream",
          "name": "stdout",
          "text": [
            "digite 'f' para Feminino ou 'm' para Masculinof\n",
            "Sexo Feminino\n"
          ]
        }
      ]
    }
  ]
}