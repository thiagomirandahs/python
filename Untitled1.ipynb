{
  "nbformat": 4,
  "nbformat_minor": 0,
  "metadata": {
    "colab": {
      "provenance": [],
      "authorship_tag": "ABX9TyPe4xVgtQXDuVgKhtJNIEEN",
      "include_colab_link": true
    },
    "kernelspec": {
      "name": "python3",
      "display_name": "Python 3"
    },
    "language_info": {
      "name": "python"
    }
  },
  "cells": [
    {
      "cell_type": "markdown",
      "metadata": {
        "id": "view-in-github",
        "colab_type": "text"
      },
      "source": [
        "<a href=\"https://colab.research.google.com/github/thiagomirandahs/python/blob/main/Untitled1.ipynb\" target=\"_parent\"><img src=\"https://colab.research.google.com/assets/colab-badge.svg\" alt=\"Open In Colab\"/></a>"
      ]
    },
    {
      "cell_type": "code",
      "execution_count": null,
      "metadata": {
        "id": "CCXc9Gzk-AGL"
      },
      "outputs": [],
      "source": [
        "class Carro:\n",
        "    def __init__(self):\n",
        "        self._nrodas = 4\n",
        "    def set_nrodas(self, n):\n",
        "        self._nrodas = n\n",
        "gol = Carro()\n",
        "print(gol._nrodas)\n",
        "\n",
        "gol.set_nrodas(10)\n",
        "print(gol._nrodas)\n",
        "\n",
        "c = Carro()\n",
        "\n",
        "print(c)"
      ]
    }
  ]
}