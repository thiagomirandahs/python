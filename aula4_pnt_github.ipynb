{
  "nbformat": 4,
  "nbformat_minor": 0,
  "metadata": {
    "colab": {
      "provenance": []
    },
    "kernelspec": {
      "name": "python3",
      "display_name": "Python 3"
    },
    "language_info": {
      "name": "python"
    }
  },
  "cells": [
    {
      "cell_type": "code",
      "execution_count": 4,
      "metadata": {
        "colab": {
          "base_uri": "https://localhost:8080/"
        },
        "id": "kAu8RVtHhjK2",
        "outputId": "14021ad7-1954-4d52-b62f-23aa193ca64e"
      },
      "outputs": [
        {
          "output_type": "stream",
          "name": "stdout",
          "text": [
            "<class 'str'>\n"
          ]
        }
      ],
      "source": [
        "# ETE Cicero Dias\n",
        "# DOCENTE: Cloves\n",
        "# ESTUDANTE: Thiago Henrique\n",
        "# print('Thiago Henrique')\n",
        "t = \"thiago\"\n",
        "print(type(t))\n"
      ]
    }
  ]
}