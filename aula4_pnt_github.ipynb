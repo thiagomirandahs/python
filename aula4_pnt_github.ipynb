{
  "nbformat": 4,
  "nbformat_minor": 0,
  "metadata": {
    "colab": {
      "provenance": [],
      "authorship_tag": "ABX9TyO6rJBluR5V/UJa0sSPq+C3",
      "include_colab_link": true
    },
    "kernelspec": {
      "name": "python3",
      "display_name": "Python 3"
    },
    "language_info": {
      "name": "python"
    }
  },
  "cells": [
    {
      "cell_type": "markdown",
      "metadata": {
        "id": "view-in-github",
        "colab_type": "text"
      },
      "source": [
        "<a href=\"https://colab.research.google.com/github/thiagomirandahs/python/blob/main/aula4_pnt_github.ipynb\" target=\"_parent\"><img src=\"https://colab.research.google.com/assets/colab-badge.svg\" alt=\"Open In Colab\"/></a>"
      ]
    },
    {
      "cell_type": "code",
      "execution_count": 5,
      "metadata": {
        "colab": {
          "base_uri": "https://localhost:8080/"
        },
        "id": "kAu8RVtHhjK2",
        "outputId": "811973d1-fdda-4992-e761-521851154792"
      },
      "outputs": [
        {
          "output_type": "stream",
          "name": "stdout",
          "text": [
            "<class 'str'>\n"
          ]
        }
      ],
      "source": [
        "# ETE Cicero Dias\n",
        "# DOCENTE: Cloves\n",
        "# ESTUDANTE: Thiago Henrique\n",
        "# print('Thiago Henrique')\n",
        "t = \"Thiago\"\n",
        "print(type(t))\n"
      ]
    }
  ]
}